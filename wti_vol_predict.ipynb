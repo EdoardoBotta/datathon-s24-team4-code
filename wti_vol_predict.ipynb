{
 "cells": [
  {
   "cell_type": "code",
   "execution_count": null,
   "metadata": {},
   "outputs": [],
   "source": []
  },
  {
   "cell_type": "markdown",
   "metadata": {},
   "source": [
    "# Data\n",
    "\n",
    "**Fundamental Energy Data (Provided)**\n",
    "\n",
    "*Recent and Historic Energy Statistics*\n",
    "\n",
    "* crude_oil_production_deseasonalized.csv\n",
    "    \n",
    "    * Residual from detrended and de-seasonalized oil production data \n",
    "    \n",
    "\n",
    "* petroleum_consumption_deseasonalized.csv\n",
    "    \n",
    "    * Residual from detrended and de-seasonalized oil consumption data\n",
    "\n",
    "\n",
    "<br>\n",
    "\n",
    "**Market Data**\n",
    "\n",
    "*Futures Curves (From Refinitiv)*\n",
    "\n",
    "* wti_futures_curves_diffs.csv\n",
    "    * Contains spot prices, % difference of each consecutive futures contract from spot, and 1-month Implied Volatility (%) on the front-month futures contract (from volatility smile in wti_continuous_options_moneyness.csv)\n",
    "\n",
    "\n",
    "*Energy Sector Stocks and Commodities (HLOC) (Provided)*\n",
    "\n",
    "* wti_price.csv\n",
    "    * Price series of WTI Crude Oil\n",
    "\n",
    "* log_geom_diff_wti_price.csv \n",
    "    * Difference in logs of WTI price \n",
    "    \n",
    "* SPY.csv\n",
    "    * Price series of S&P 500 index\n",
    "\n",
    "* SPY_log_geom_diff.csv\n",
    "    * Difference in logs of SPY price\n",
    "\n",
    "* IYE.csv\n",
    "    * Price series of IYE (U.S. Energy Companies) Index\n",
    "* IYE_log_geom_diff.csv\n",
    "    * Difference in logs of IYE price\n"
   ]
  },
  {
   "cell_type": "code",
   "execution_count": 6,
   "metadata": {},
   "outputs": [],
   "source": [
    "import numpy as np\n",
    "import pandas as pd\n",
    "import matplotlib.pyplot as plt\n",
    "import seaborn as sns\n",
    "from sklearn.preprocessing import StandardScaler\n",
    "from sklearn.decomposition import PCA\n",
    "import statsmodels.api as sm"
   ]
  },
  {
   "cell_type": "markdown",
   "metadata": {},
   "source": [
    "#"
   ]
  },
  {
   "cell_type": "markdown",
   "metadata": {},
   "source": [
    "## Import Data"
   ]
  },
  {
   "cell_type": "code",
   "execution_count": 10,
   "metadata": {},
   "outputs": [],
   "source": [
    "# Import Data\n",
    "\n",
    "# Consumption\n",
    "petroleum_consumption_deseasonalized = pd.read_csv(r\"data\\\\cleaned_data\\\\consumption_production\\\\petroleum_consumption_deseasonalized.csv\")\n",
    "#Production\n",
    "crude_oil_production_deseasonalized = pd.read_csv(r\"data\\\\cleaned_data\\\\consumption_production\\\\crude_oil_production_deseasonalized.csv\")\n",
    "\n",
    "# Futures\n",
    "wti_futures_curves_diffs = pd.read_csv(r\"data\\cleaned_data\\futures\\wti_futures_diffs.csv\")\n",
    "\n",
    "\n",
    "\n",
    "# Stocks and Commodity Prices\n",
    "log_geom_diff_wti_price = pd.read_csv(r\"data\\\\cleaned_data\\\\prices\\\\log_geom_diff_wti_price.csv\")\n",
    "log_geom_diff_spy = pd.read_csv(r\"data\\\\cleaned_data\\\\prices\\\\SPY_log_geom_diff.csv\")\n",
    "log_geom_diff_iye = pd.read_csv(r\"data\\\\cleaned_data\\\\prices\\\\IYE_log_geom_diff.csv\")\n",
    "\n",
    "\n",
    "\n",
    "\n"
   ]
  }
 ],
 "metadata": {
  "kernelspec": {
   "display_name": "base",
   "language": "python",
   "name": "python3"
  },
  "language_info": {
   "codemirror_mode": {
    "name": "ipython",
    "version": 3
   },
   "file_extension": ".py",
   "mimetype": "text/x-python",
   "name": "python",
   "nbconvert_exporter": "python",
   "pygments_lexer": "ipython3",
   "version": "3.11.4"
  }
 },
 "nbformat": 4,
 "nbformat_minor": 2
}
