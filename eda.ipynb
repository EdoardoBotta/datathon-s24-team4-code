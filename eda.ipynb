{
 "cells": [
  {
   "cell_type": "markdown",
   "metadata": {},
   "source": [
    "# EDA\n",
    "\n",
    "Perform exploratory data analysis and visualization for:\n",
    "\n",
    "<br>\n",
    "\n",
    "*American Community Survey - Selected Economic Characteristics (5 Year Estimates)*\n",
    "\n",
    "**acs_5yr_est_selected_economic_characteristics_2010-2022.csv**\n",
    "\n",
    "The American Community Survey (ACS) is an ongoing survey conducted by the US Census\n",
    "Bureau that provides vital information on a yearly basis about various social and economic\n",
    "characteristics across demographics.\n",
    "~98K rows & 8 columns. Size: 12.1 MB. Source: American Community Survey\n",
    "\n",
    "<br>\n",
    "\n",
    "*Energy Sector Stocks and Commodities (HLOC)*\n",
    "\n",
    "**all_commodities.csv**\n",
    "\n",
    "**all_stocks_and_etfs.csv**\n",
    "\n",
    "**stock_descriptions.csv**\n",
    "\n",
    "\n",
    "A collection of daily high/low/open/close prices for stocks in the energy sector and four\n",
    "exchange-traded funds (ETF) that track major indices (S&P 500, Nasdaq, Dow Jones Industrial\n",
    "Average), some general information about these companies, and daily prices for energy\n",
    "commodities.\n",
    "Stocks and ETFs ~145K rows & 7 columns. Size: 7.1 MB\n",
    "Commodities ~27K rows & 5 columns. Size: 1.9 MB\n",
    "Descriptions 29 rows & 6 columns. Size: 14 KB\n",
    "Source: Alpha Vantage and Yahoo! Finance\n",
    "\n",
    "<br>\n",
    "\n",
    "*Recent and Historic Energy Statistics*\n",
    "\n",
    "**Energy Data - Consumption.csv**\n",
    "\n",
    "**Energy Data - Emissions.csv**\n",
    "\n",
    "**Energy Data - Imports & Exports.csv**\n",
    "\n",
    "**Energy Data - Production.csv**\n",
    "\n",
    "**Energy Data - Stocks.csv**\n",
    "\n",
    "\n",
    "Import/exports volume, production, stocks, consumption, and emissions from energy sources in\n",
    "the United States.\n",
    "Imports & Exports ~19.5K rows & 10 columns. Size: 2.3 MB\n",
    "Production ~10.3K rows & 7 columns. Size: 826 KB\n",
    "Stocks ~17.5K rows & 11 columns. Size: 2.3 MB\n",
    "Consumption ~57.6K rows & 12 columns. Size: 8.7 MB\n",
    "Emissions ~48.3K rows & 10 columns. Size: 7.3 MB\n",
    "Source: U.S. Energy Information Administration\n",
    "\n",
    "<br>\n",
    "\n",
    "*Monthly Transportation Statistics*\n",
    "\n",
    "**monthly_transportation_statistics.csv**\n",
    "\n",
    "\n",
    "The latest monthly and quarterly data from across the government and the transportation\n",
    "industry.\n",
    "289 rows & 137 columns. Size: 309 KB. Source: U.S. Dept of Transportation - Bureau of\n",
    "Transportation Statistics\n",
    "\n",
    "\n",
    "\n",
    "\n",
    "\n",
    "\n",
    "\n",
    "\n",
    "\n",
    "\n",
    "\n"
   ]
  },
  {
   "cell_type": "code",
   "execution_count": 14,
   "metadata": {},
   "outputs": [],
   "source": [
    "# import libraries for eda\n",
    "import numpy as np\n",
    "import pandas as pd\n",
    "import matplotlib.pyplot as plt\n",
    "import seaborn as sns\n",
    "import os\n",
    "import sys\n",
    "\n",
    "data_folderpath = r\"data\\!Spring_Invitational_2024_data\\Datathon_Data\" "
   ]
  },
  {
   "cell_type": "markdown",
   "metadata": {},
   "source": [
    "## **acs_5yr_est_selected_economic_characteristics_2010-2022.csv**"
   ]
  },
  {
   "cell_type": "code",
   "execution_count": 16,
   "metadata": {},
   "outputs": [
    {
     "name": "stdout",
     "output_type": "stream",
     "text": [
      "data\\!Spring_Invitational_2024_data\\Datathon_Data\\acs_5yr_est_selected_economic_characteristics_2010-2022.csv\n",
      "Label (Grouping)           object\n",
      "Category                   object\n",
      "State                      object\n",
      "Estimate                   object\n",
      "Margin of Error            object\n",
      "Percent                    object\n",
      "Percent Margin of Error    object\n",
      "Year                        int64\n",
      "dtype: object\n",
      "Label (Grouping)  -  <class 'str'>\n",
      "Category  -  <class 'str'>\n",
      "State  -  <class 'str'>\n",
      "Estimate  -  <class 'float'>\n",
      "Margin of Error  -  <class 'float'>\n",
      "Percent  -  <class 'float'>\n",
      "Percent Margin of Error  -  <class 'float'>\n",
      "Year  -  <class 'numpy.int64'>\n"
     ]
    },
    {
     "data": {
      "text/html": [
       "<div>\n",
       "<style scoped>\n",
       "    .dataframe tbody tr th:only-of-type {\n",
       "        vertical-align: middle;\n",
       "    }\n",
       "\n",
       "    .dataframe tbody tr th {\n",
       "        vertical-align: top;\n",
       "    }\n",
       "\n",
       "    .dataframe thead th {\n",
       "        text-align: right;\n",
       "    }\n",
       "</style>\n",
       "<table border=\"1\" class=\"dataframe\">\n",
       "  <thead>\n",
       "    <tr style=\"text-align: right;\">\n",
       "      <th></th>\n",
       "      <th>Label (Grouping)</th>\n",
       "      <th>Category</th>\n",
       "      <th>State</th>\n",
       "      <th>Estimate</th>\n",
       "      <th>Margin of Error</th>\n",
       "      <th>Percent</th>\n",
       "      <th>Percent Margin of Error</th>\n",
       "      <th>Year</th>\n",
       "    </tr>\n",
       "  </thead>\n",
       "  <tbody>\n",
       "    <tr>\n",
       "      <th>0</th>\n",
       "      <td>EMPLOYMENT STATUS</td>\n",
       "      <td>Header</td>\n",
       "      <td>Alabama</td>\n",
       "      <td>NaN</td>\n",
       "      <td>NaN</td>\n",
       "      <td>NaN</td>\n",
       "      <td>NaN</td>\n",
       "      <td>2010</td>\n",
       "    </tr>\n",
       "    <tr>\n",
       "      <th>1</th>\n",
       "      <td>Population 16 years and over</td>\n",
       "      <td>EMPLOYMENT STATUS</td>\n",
       "      <td>Alabama</td>\n",
       "      <td>3,714,504</td>\n",
       "      <td>±1,588</td>\n",
       "      <td>3,714,504</td>\n",
       "      <td>(X)</td>\n",
       "      <td>2010</td>\n",
       "    </tr>\n",
       "    <tr>\n",
       "      <th>2</th>\n",
       "      <td>In labor force</td>\n",
       "      <td>EMPLOYMENT STATUS</td>\n",
       "      <td>Alabama</td>\n",
       "      <td>2,246,848</td>\n",
       "      <td>±5,576</td>\n",
       "      <td>60.5%</td>\n",
       "      <td>±0.1</td>\n",
       "      <td>2010</td>\n",
       "    </tr>\n",
       "    <tr>\n",
       "      <th>3</th>\n",
       "      <td>Civilian labor force</td>\n",
       "      <td>EMPLOYMENT STATUS</td>\n",
       "      <td>Alabama</td>\n",
       "      <td>2,230,879</td>\n",
       "      <td>±5,531</td>\n",
       "      <td>60.1%</td>\n",
       "      <td>±0.1</td>\n",
       "      <td>2010</td>\n",
       "    </tr>\n",
       "    <tr>\n",
       "      <th>4</th>\n",
       "      <td>Employed</td>\n",
       "      <td>EMPLOYMENT STATUS</td>\n",
       "      <td>Alabama</td>\n",
       "      <td>2,036,867</td>\n",
       "      <td>±5,904</td>\n",
       "      <td>54.8%</td>\n",
       "      <td>±0.2</td>\n",
       "      <td>2010</td>\n",
       "    </tr>\n",
       "  </tbody>\n",
       "</table>\n",
       "</div>"
      ],
      "text/plain": [
       "               Label (Grouping)           Category    State   Estimate  \\\n",
       "0             EMPLOYMENT STATUS             Header  Alabama        NaN   \n",
       "1  Population 16 years and over  EMPLOYMENT STATUS  Alabama  3,714,504   \n",
       "2                In labor force  EMPLOYMENT STATUS  Alabama  2,246,848   \n",
       "3          Civilian labor force  EMPLOYMENT STATUS  Alabama  2,230,879   \n",
       "4                      Employed  EMPLOYMENT STATUS  Alabama  2,036,867   \n",
       "\n",
       "  Margin of Error    Percent Percent Margin of Error  Year  \n",
       "0             NaN        NaN                     NaN  2010  \n",
       "1          ±1,588  3,714,504                     (X)  2010  \n",
       "2          ±5,576      60.5%                    ±0.1  2010  \n",
       "3          ±5,531      60.1%                    ±0.1  2010  \n",
       "4          ±5,904      54.8%                    ±0.2  2010  "
      ]
     },
     "execution_count": 16,
     "metadata": {},
     "output_type": "execute_result"
    }
   ],
   "source": [
    "# import data\n",
    "econ_data_path = data_folderpath + r\"\\acs_5yr_est_selected_economic_characteristics_2010-2022.csv\"\n",
    "\n",
    "print(econ_data_path)\n",
    "\n",
    "econ_data = pd.read_csv(econ_data_path)\n",
    "\n",
    "#Print type of each col\n",
    "print(econ_data.dtypes)\n",
    "\n",
    "for col in econ_data.columns:\n",
    "    print(col,\" - \" ,type(econ_data[col][0]))\n",
    "\n",
    "econ_data.head()"
   ]
  },
  {
   "cell_type": "markdown",
   "metadata": {},
   "source": [
    "## **all_commodities.csv**"
   ]
  },
  {
   "cell_type": "code",
   "execution_count": null,
   "metadata": {},
   "outputs": [],
   "source": [
    "# import data"
   ]
  },
  {
   "cell_type": "markdown",
   "metadata": {},
   "source": [
    "## **all_stocks_and_etfs.csv**"
   ]
  },
  {
   "cell_type": "code",
   "execution_count": null,
   "metadata": {},
   "outputs": [],
   "source": []
  },
  {
   "cell_type": "markdown",
   "metadata": {},
   "source": [
    "## **Energy Data - Consumption.csv**"
   ]
  },
  {
   "cell_type": "code",
   "execution_count": null,
   "metadata": {},
   "outputs": [],
   "source": []
  },
  {
   "cell_type": "markdown",
   "metadata": {},
   "source": [
    "## **Energy Data - Emissions.csv**"
   ]
  },
  {
   "cell_type": "code",
   "execution_count": null,
   "metadata": {},
   "outputs": [],
   "source": []
  },
  {
   "cell_type": "markdown",
   "metadata": {},
   "source": [
    "## **Energy Data - Imports & Exports.csv**"
   ]
  },
  {
   "cell_type": "code",
   "execution_count": null,
   "metadata": {},
   "outputs": [],
   "source": []
  },
  {
   "cell_type": "markdown",
   "metadata": {},
   "source": [
    "## **Energy Data - Production.csv**"
   ]
  },
  {
   "cell_type": "code",
   "execution_count": null,
   "metadata": {},
   "outputs": [],
   "source": []
  },
  {
   "cell_type": "markdown",
   "metadata": {},
   "source": [
    "## **monthly_transportation_statistics.csv**"
   ]
  },
  {
   "cell_type": "code",
   "execution_count": null,
   "metadata": {},
   "outputs": [],
   "source": []
  },
  {
   "cell_type": "markdown",
   "metadata": {},
   "source": [
    "## **Energy Data - Stocks.csv**"
   ]
  },
  {
   "cell_type": "code",
   "execution_count": null,
   "metadata": {},
   "outputs": [],
   "source": []
  },
  {
   "cell_type": "markdown",
   "metadata": {},
   "source": [
    "## **stock_descriptions.csv**"
   ]
  },
  {
   "cell_type": "code",
   "execution_count": null,
   "metadata": {},
   "outputs": [],
   "source": []
  }
 ],
 "metadata": {
  "kernelspec": {
   "display_name": "base",
   "language": "python",
   "name": "python3"
  },
  "language_info": {
   "codemirror_mode": {
    "name": "ipython",
    "version": 3
   },
   "file_extension": ".py",
   "mimetype": "text/x-python",
   "name": "python",
   "nbconvert_exporter": "python",
   "pygments_lexer": "ipython3",
   "version": "3.11.4"
  }
 },
 "nbformat": 4,
 "nbformat_minor": 2
}
